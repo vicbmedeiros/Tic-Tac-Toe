{
 "cells": [
  {
   "cell_type": "code",
   "execution_count": 3,
   "id": "61b4478b",
   "metadata": {},
   "outputs": [
    {
     "name": "stdout",
     "output_type": "stream",
     "text": [
      "Welcome to Tic Tac Toe!\n"
     ]
    }
   ],
   "source": [
    "print(\"Welcome to Tic Tac Toe!\")\n",
    "\n",
    "#player 1: Do you want to be X or O?\n",
    "#choose you next position(1-9)\n",
    "#congratulations! yOU HAVE WON THE GAME!\n"
   ]
  },
  {
   "cell_type": "code",
   "execution_count": 4,
   "id": "a832cd69",
   "metadata": {},
   "outputs": [],
   "source": [
    "from IPython.display import clear_output\n",
    "\n",
    "def display_board(board):\n",
    "    clear_output\n",
    "    print(\"   |   |    \")\n",
    "    print(\" \"+board[7]+\" | \"+board[8]+\" | \"+board[9]+\" \")\n",
    "    print(\"   |   |    \")\n",
    "    print(\"-----------\")\n",
    "    print(\"   |   |    \")\n",
    "    print(\" \"+board[4]+\" | \"+board[5]+\" | \"+board[6]+\" \")\n",
    "    print(\"   |   |    \")\n",
    "    print(\"-----------\")\n",
    "    print(\"   |   |    \")\n",
    "    print(\" \"+board[1]+\" | \"+board[2]+\" | \"+board[3]+\" \")\n",
    "    print(\"   |   |    \")"
   ]
  },
  {
   "cell_type": "code",
   "execution_count": 5,
   "id": "28451b9e",
   "metadata": {},
   "outputs": [
    {
     "name": "stdout",
     "output_type": "stream",
     "text": [
      "   |   |    \n",
      "   |   |   \n",
      "   |   |    \n",
      "-----------\n",
      "   |   |    \n",
      "   |   |   \n",
      "   |   |    \n",
      "-----------\n",
      "   |   |    \n",
      "   |   |   \n",
      "   |   |    \n"
     ]
    }
   ],
   "source": [
    "test_board = [' ']*10\n",
    "display_board(test_board)"
   ]
  },
  {
   "cell_type": "code",
   "execution_count": 6,
   "id": "cd4262d0",
   "metadata": {},
   "outputs": [],
   "source": [
    "def player_input():\n",
    "    marker = ''\n",
    "    \n",
    "    while not (marker == 'X' or marker =='O'):\n",
    "        marker = input(\"Player 1, choose X or O: \").upper()\n",
    "           \n",
    "    if marker == 'X':\n",
    "        return ('X', 'O')\n",
    "        \n",
    "    else:\n",
    "        return ('O', 'X')"
   ]
  },
  {
   "cell_type": "code",
   "execution_count": 7,
   "id": "d4832430",
   "metadata": {},
   "outputs": [
    {
     "name": "stdout",
     "output_type": "stream",
     "text": [
      "Player 1, choose X or O: \n",
      "Player 1, choose X or O: x\n"
     ]
    }
   ],
   "source": [
    "player1_marker, player2_marker = player_input()"
   ]
  },
  {
   "cell_type": "code",
   "execution_count": 8,
   "id": "db93a1b4",
   "metadata": {},
   "outputs": [],
   "source": [
    "game_board = ['#',' ',' ',' ',' ',' ',' ',' ',' ',' ']"
   ]
  },
  {
   "cell_type": "code",
   "execution_count": 9,
   "id": "0de5edde",
   "metadata": {},
   "outputs": [],
   "source": [
    "def player_position (board, marker):\n",
    "    position = ' '\n",
    "    while position not in ['1','2','3','4','5','6','7','8','9']:\n",
    "        position = input('Choose your next position(1-9):')\n",
    "        \n",
    "    board[int(position)] = marker\n",
    "    game_board = board\n",
    "    return game_board"
   ]
  },
  {
   "cell_type": "code",
   "execution_count": 10,
   "id": "1895e52b",
   "metadata": {},
   "outputs": [
    {
     "name": "stdout",
     "output_type": "stream",
     "text": [
      "Choose your next position(1-9):2\n"
     ]
    },
    {
     "data": {
      "text/plain": [
       "['#', ' ', 'X', ' ', ' ', ' ', ' ', ' ', ' ', ' ']"
      ]
     },
     "execution_count": 10,
     "metadata": {},
     "output_type": "execute_result"
    }
   ],
   "source": [
    "player_position (game_board,\"X\")"
   ]
  },
  {
   "cell_type": "code",
   "execution_count": 11,
   "id": "54371f70",
   "metadata": {},
   "outputs": [],
   "source": [
    "def place_marker (board, marker, position):\n",
    "    board[position] = marker"
   ]
  },
  {
   "cell_type": "code",
   "execution_count": 12,
   "id": "54c1a3e8",
   "metadata": {},
   "outputs": [
    {
     "name": "stdout",
     "output_type": "stream",
     "text": [
      "   |   |    \n",
      "   | H |   \n",
      "   |   |    \n",
      "-----------\n",
      "   |   |    \n",
      "   |   |   \n",
      "   |   |    \n",
      "-----------\n",
      "   |   |    \n",
      "   | X |   \n",
      "   |   |    \n"
     ]
    }
   ],
   "source": [
    "place_marker (game_board, 'H', 8)\n",
    "display_board (game_board)"
   ]
  },
  {
   "cell_type": "code",
   "execution_count": 13,
   "id": "ee3f011b",
   "metadata": {},
   "outputs": [
    {
     "name": "stdout",
     "output_type": "stream",
     "text": [
      "   |   |    \n",
      "   | H |   \n",
      "   |   |    \n",
      "-----------\n",
      "   |   |    \n",
      "   |   |   \n",
      "   |   |    \n",
      "-----------\n",
      "   |   |    \n",
      "   | X |   \n",
      "   |   |    \n"
     ]
    }
   ],
   "source": [
    "display_board(game_board)"
   ]
  },
  {
   "cell_type": "code",
   "execution_count": 14,
   "id": "993b5d93",
   "metadata": {},
   "outputs": [],
   "source": [
    "def win_check(board, mark):\n",
    "    \n",
    "    if board[1]==board[2]==board[3] == mark:\n",
    "        return True\n",
    "    elif board[4]==board[5]==board[6]== mark:\n",
    "        return True\n",
    "    elif board[7]==board[8]==board[9]== mark:\n",
    "        return True\n",
    "    elif board[1]==board[4]==board[7]== mark:\n",
    "        return True\n",
    "    elif board[2]==board[5]==board[8]== mark:\n",
    "        return True\n",
    "    elif board[3]==board[6]==board[9]== mark:\n",
    "        return True\n",
    "    elif board[3]==board[5]==board[7]== mark:\n",
    "        return True\n",
    "    elif board[1]==board[5]==board[9]== mark:\n",
    "        return True\n",
    "    else:\n",
    "        return False"
   ]
  },
  {
   "cell_type": "code",
   "execution_count": 15,
   "id": "c4f695c8",
   "metadata": {},
   "outputs": [
    {
     "data": {
      "text/plain": [
       "False"
      ]
     },
     "execution_count": 15,
     "metadata": {},
     "output_type": "execute_result"
    }
   ],
   "source": [
    "win_check(game_board, 'X')"
   ]
  },
  {
   "cell_type": "code",
   "execution_count": 16,
   "id": "3d1829c0",
   "metadata": {},
   "outputs": [],
   "source": [
    "import random\n",
    "\n",
    "def choose_first():\n",
    "    starter = random.randint(0,9)\n",
    "    if starter == 0:\n",
    "        return 'Player 2' \n",
    "    else:\n",
    "        return 'Player 1'"
   ]
  },
  {
   "cell_type": "code",
   "execution_count": 17,
   "id": "ba84e0bf",
   "metadata": {},
   "outputs": [
    {
     "data": {
      "text/plain": [
       "'Player 1'"
      ]
     },
     "execution_count": 17,
     "metadata": {},
     "output_type": "execute_result"
    }
   ],
   "source": [
    "choose_first()"
   ]
  },
  {
   "cell_type": "code",
   "execution_count": 18,
   "id": "1eac915f",
   "metadata": {},
   "outputs": [],
   "source": [
    "def space_check(board, position):\n",
    "    return board[position]==' '"
   ]
  },
  {
   "cell_type": "code",
   "execution_count": 19,
   "id": "3178d2b5",
   "metadata": {},
   "outputs": [
    {
     "data": {
      "text/plain": [
       "False"
      ]
     },
     "execution_count": 19,
     "metadata": {},
     "output_type": "execute_result"
    }
   ],
   "source": [
    "space_check(game_board, 8)"
   ]
  },
  {
   "cell_type": "code",
   "execution_count": 20,
   "id": "6034c3b3",
   "metadata": {},
   "outputs": [],
   "source": [
    "#def full_board_check(board):\n",
    " #   sum = 0\n",
    "  #  for item in board:\n",
    "  #      if item == 'X'or item == 'O':\n",
    "   #         sum += 1\n",
    "   # return sum==9\n",
    "\n",
    "def full_board_check(board):\n",
    "    \n",
    "    for i in range(1,10):\n",
    "        if space_check(board,i):\n",
    "            return False\n",
    "    return True"
   ]
  },
  {
   "cell_type": "code",
   "execution_count": 21,
   "id": "45d566ae",
   "metadata": {},
   "outputs": [],
   "source": [
    "boardtest =  ['#','X',' ','X','X','X','X','X','X','X']"
   ]
  },
  {
   "cell_type": "code",
   "execution_count": 22,
   "id": "d6da71f1",
   "metadata": {},
   "outputs": [
    {
     "data": {
      "text/plain": [
       "False"
      ]
     },
     "execution_count": 22,
     "metadata": {},
     "output_type": "execute_result"
    }
   ],
   "source": [
    "full_board_check(boardtest)"
   ]
  },
  {
   "cell_type": "code",
   "execution_count": 27,
   "id": "caca396f",
   "metadata": {},
   "outputs": [],
   "source": [
    "def player_choice(board):\n",
    "    position = 0\n",
    "    \n",
    "    while position not in [1, 2, 3, 4, 5, 6, 7 , 8 , 9] or not space_check(board,position):\n",
    "        position = int(input('Choose your next position(1-9):'))\n",
    "        \n",
    "    return position"
   ]
  },
  {
   "cell_type": "code",
   "execution_count": 28,
   "id": "84f1ae34",
   "metadata": {},
   "outputs": [
    {
     "name": "stdout",
     "output_type": "stream",
     "text": [
      "Choose your next position(1-9):2\n",
      "Choose your next position(1-9):1\n"
     ]
    },
    {
     "data": {
      "text/plain": [
       "1"
      ]
     },
     "execution_count": 28,
     "metadata": {},
     "output_type": "execute_result"
    }
   ],
   "source": [
    "player_choice(game_board)"
   ]
  },
  {
   "cell_type": "code",
   "execution_count": 252,
   "id": "6e536c8d",
   "metadata": {},
   "outputs": [
    {
     "data": {
      "text/plain": [
       "['#', ' ', ' ', ' ', ' ', ' ', ' ', 'X', 'X', 'X']"
      ]
     },
     "execution_count": 252,
     "metadata": {},
     "output_type": "execute_result"
    }
   ],
   "source": [
    "game_board"
   ]
  },
  {
   "cell_type": "code",
   "execution_count": 274,
   "id": "8ef88401",
   "metadata": {},
   "outputs": [],
   "source": [
    "def replay():\n",
    "    \n",
    "    choice = input ('Do you want to play again? Enter Yes or No')\n",
    "    \n",
    "    return choice == 'Yes'"
   ]
  },
  {
   "cell_type": "code",
   "execution_count": 276,
   "id": "06c2e4cf",
   "metadata": {},
   "outputs": [
    {
     "name": "stdout",
     "output_type": "stream",
     "text": [
      "Do you want to play again? Enter Yes or NoYes\n"
     ]
    },
    {
     "data": {
      "text/plain": [
       "True"
      ]
     },
     "execution_count": 276,
     "metadata": {},
     "output_type": "execute_result"
    }
   ],
   "source": [
    "replay()"
   ]
  },
  {
   "cell_type": "code",
   "execution_count": 331,
   "id": "49f2c1e1",
   "metadata": {},
   "outputs": [
    {
     "name": "stdout",
     "output_type": "stream",
     "text": [
      "Welcome to Tic Tac Toe!\n",
      "Player 1, choose X or O: x\n",
      "Player 1 starts the game!\n",
      "Ready to play? Yes or No?y\n",
      "   |   |    \n",
      "   |   |   \n",
      "   |   |    \n",
      "-----------\n",
      "   |   |    \n",
      "   |   |   \n",
      "   |   |    \n",
      "-----------\n",
      "   |   |    \n",
      "   |   |   \n",
      "   |   |    \n",
      "Choose your next position(1-9):9\n",
      "   |   |    \n",
      "   |   | X \n",
      "   |   |    \n",
      "-----------\n",
      "   |   |    \n",
      "   |   |   \n",
      "   |   |    \n",
      "-----------\n",
      "   |   |    \n",
      "   |   |   \n",
      "   |   |    \n",
      "Choose your next position(1-9):8\n",
      "   |   |    \n",
      "   | O | X \n",
      "   |   |    \n",
      "-----------\n",
      "   |   |    \n",
      "   |   |   \n",
      "   |   |    \n",
      "-----------\n",
      "   |   |    \n",
      "   |   |   \n",
      "   |   |    \n",
      "Choose your next position(1-9):7\n",
      "   |   |    \n",
      " X | O | X \n",
      "   |   |    \n",
      "-----------\n",
      "   |   |    \n",
      "   |   |   \n",
      "   |   |    \n",
      "-----------\n",
      "   |   |    \n",
      "   |   |   \n",
      "   |   |    \n",
      "Choose your next position(1-9):6\n",
      "   |   |    \n",
      " X | O | X \n",
      "   |   |    \n",
      "-----------\n",
      "   |   |    \n",
      "   |   | O \n",
      "   |   |    \n",
      "-----------\n",
      "   |   |    \n",
      "   |   |   \n",
      "   |   |    \n",
      "Choose your next position(1-9):5\n",
      "   |   |    \n",
      " X | O | X \n",
      "   |   |    \n",
      "-----------\n",
      "   |   |    \n",
      "   | X | O \n",
      "   |   |    \n",
      "-----------\n",
      "   |   |    \n",
      "   |   |   \n",
      "   |   |    \n",
      "Choose your next position(1-9):4\n",
      "   |   |    \n",
      " X | O | X \n",
      "   |   |    \n",
      "-----------\n",
      "   |   |    \n",
      " O | X | O \n",
      "   |   |    \n",
      "-----------\n",
      "   |   |    \n",
      "   |   |   \n",
      "   |   |    \n",
      "Choose your next position(1-9):1\n",
      "   |   |    \n",
      " X | O | X \n",
      "   |   |    \n",
      "-----------\n",
      "   |   |    \n",
      " O | X | O \n",
      "   |   |    \n",
      "-----------\n",
      "   |   |    \n",
      " X |   |   \n",
      "   |   |    \n",
      "PLAYER 1 HAS WON!\n",
      "Do you want to play again? Enter Yes or Nono\n"
     ]
    }
   ],
   "source": [
    "print(\"Welcome to Tic Tac Toe!\")\n",
    "\n",
    "while True:\n",
    "    test_board = [' ']*10\n",
    "    player1_marker, player2_marker = player_input()\n",
    "    turn = choose_first()\n",
    "    print(turn + ' starts the game!')\n",
    "    \n",
    "    play_game = input ('Ready to play? Yes or No?')\n",
    "    \n",
    "    if play_game.lower()[0] == 'y':\n",
    "        game_on = True\n",
    "    else:\n",
    "        game_on = False\n",
    "        \n",
    "    while game_on:\n",
    "        \n",
    "        if turn == 'Player 1':\n",
    "            \n",
    "            display_board(test_board)\n",
    "            position = player_choice(test_board)\n",
    "            place_marker (test_board, player1_marker, position)\n",
    "            \n",
    "            if win_check(test_board, player1_marker):\n",
    "                display_board(test_board)\n",
    "                print(\"PLAYER 1 HAS WON!\")\n",
    "                game_on = False\n",
    "                \n",
    "            else:\n",
    "                if full_board_check(test_board):\n",
    "                    display_board(test_board)\n",
    "                    print (\"TIE GAME!\")\n",
    "                    break\n",
    "                else:\n",
    "                    turn = 'Player 2'\n",
    "            \n",
    "        else:\n",
    "            \n",
    "            display_board(test_board)\n",
    "            position = player_choice(test_board)\n",
    "            place_marker (test_board, player2_marker, position)\n",
    "            \n",
    "            if win_check(test_board, player2_marker):\n",
    "                display_board(test_board)\n",
    "                print(\"PLAYER 2 HAS WON!\")\n",
    "                game_on = False\n",
    "                \n",
    "            else:\n",
    "                if full_board_check(test_board):\n",
    "                    display_board(test_board)\n",
    "                    print (\"TIE GAME!\")\n",
    "                    break\n",
    "                else:\n",
    "                    turn = 'Player 1'\n",
    "    \n",
    "    if not replay():\n",
    "        break"
   ]
  },
  {
   "cell_type": "code",
   "execution_count": null,
   "id": "cb9aac47",
   "metadata": {},
   "outputs": [],
   "source": []
  },
  {
   "cell_type": "code",
   "execution_count": null,
   "id": "0ba87e73",
   "metadata": {},
   "outputs": [],
   "source": []
  }
 ],
 "metadata": {
  "kernelspec": {
   "display_name": "Python 3 (ipykernel)",
   "language": "python",
   "name": "python3"
  },
  "language_info": {
   "codemirror_mode": {
    "name": "ipython",
    "version": 3
   },
   "file_extension": ".py",
   "mimetype": "text/x-python",
   "name": "python",
   "nbconvert_exporter": "python",
   "pygments_lexer": "ipython3",
   "version": "3.11.5"
  }
 },
 "nbformat": 4,
 "nbformat_minor": 5
}
